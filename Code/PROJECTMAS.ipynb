{
 "cells": [
  {
   "cell_type": "markdown",
   "id": "ddc209e7",
   "metadata": {},
   "source": [
    "Geographical code \n",
    "\n",
    "Inputs needed:\n",
    "1. Clinic addresses\n",
    "2. LSOA central points (patient addresses & where we might put the van)\n",
    "3. Type of attendances & whether able to be van \n",
    "4. Emissions factor https://view.officeapps.live.com/op/view.aspx?src=https%3A%2F%2Fassets.publishing.service.gov.uk%2Fgovernment%2Fuploads%2Fsystem%2Fuploads%2Fattachment_data%2Ffile%2F1049333%2Fconversion-factors-2021-full-set-advanced-users.xlsm&wdOrigin=BROWSELINK\n",
    "\n",
    "Focus group - what difference will a van make? What need could move from in clinic to van? What unmet need might attend who perhaps DNA for various reasons in clinic?\n",
    "\n",
    "Outputs proposed:\n",
    "1. Heat map of distance to clinic (like SHAPE) \n",
    "2. LSOA IMD heatmap but in python - quintiles\n",
    "3. LSOA by clinic travel matrix - csv style - multiply by crosstab to give total number of miles travelled - multiply by emissions factor <- baseline modelled emissions\n",
    "4. Impact of van placement on alternative emission amounts\n",
    "5. Health equalities for each appointment type and clinic location\n",
    "\n",
    "HEA - will show what the inequalities are in attendance use for current service. Theory - van placed where different demographics will attend, therefore mitigate the equalities issues. Need local thoughts on the difference it might make.\n",
    "\n",
    "\n",
    "Potential thoughts:\n",
    "An output of the map directions for each lsoa to each clinic in order to demonstrate the decision making process for those routes\n",
    "What assumptions for modelling alternative designs - assumptions about the van, how much unmet need might utilise the van, how much current need will redistribute to the van. Control for capacity of the van. What units will we do this in? Do we want to chunk up the data or do 3 year average etc? Assume location of the van is static or dynamic?"
   ]
  },
  {
   "cell_type": "code",
   "execution_count": null,
   "id": "32cc6240",
   "metadata": {},
   "outputs": [],
   "source": [
    "import pandas as pd\n",
    "import geopandas as gpd\n",
    "import numpy as np"
   ]
  }
 ],
 "metadata": {
  "kernelspec": {
   "display_name": "Python 3 (ipykernel)",
   "language": "python",
   "name": "python3"
  },
  "language_info": {
   "codemirror_mode": {
    "name": "ipython",
    "version": 3
   },
   "file_extension": ".py",
   "mimetype": "text/x-python",
   "name": "python",
   "nbconvert_exporter": "python",
   "pygments_lexer": "ipython3",
   "version": "3.8.11"
  }
 },
 "nbformat": 4,
 "nbformat_minor": 5
}
