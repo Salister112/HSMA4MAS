{
 "cells": [
  {
   "cell_type": "code",
   "execution_count": 1,
   "id": "ce0b2796",
   "metadata": {},
   "outputs": [],
   "source": [
    "#git location: https://github.com/Salister112/HSMA4MAS\n",
    "\n",
    "#Load standard modules numpy and pandas\n",
    "import pandas as pd\n",
    "import numpy as np\n",
    "import matplotlib.pyplot as plt\n",
    "import seaborn as sns\n",
    "import missingno as msno\n",
    "\n",
    "#library \n",
    "import textwrap as twp\n",
    "\n",
    "#Import Machine Learning modules\n",
    "from sklearn.linear_model import LogisticRegression\n",
    "from sklearn.linear_model import LinearRegression\n",
    "from sklearn.model_selection import train_test_split\n",
    "from sklearn.preprocessing import StandardScaler\n",
    "from sklearn.preprocessing import MinMaxScaler\n",
    "\n",
    "#Import spreadsheet manipulation modules\n",
    "import openpyxl\n",
    "from openpyxl.styles import Alignment, Font, Color, colors, PatternFill, Border\n",
    "\n",
    "#Import file and directory navigation modules\n",
    "import glob, os"
   ]
  },
  {
   "cell_type": "markdown",
   "id": "b0874833-babd-4850-8a95-6951aafd5b16",
   "metadata": {},
   "source": [
    "<h4>Branding colours<h4>"
   ]
  },
  {
   "cell_type": "code",
   "execution_count": 2,
   "id": "c4e4bfdb-c25f-4ca5-943f-fd0899afd430",
   "metadata": {},
   "outputs": [],
   "source": [
    "#Taken from https://www.england.nhs.uk/nhsidentity/identity-guidelines/colours/\n",
    "#General guidance from website:\n",
    "#lots of white\n",
    "#prominent use of nhs_blue\n",
    "#plenty of core blue and pale neutrals\n",
    "#moderate use of greens, black and dark grey\n",
    "#minimal use of highlights\n",
    "\n",
    "#Level 1 - Major Colours (prominent use, with plenty of nhs_blue specifically)\n",
    "nhs_dark_blue = \"#003087\"\n",
    "nhs_blue = \"#005EB8\"\n",
    "nhs_bright_blue = \"#0072CE\"\n",
    "nhs_light_blue = \"#41B6E6\"\n",
    "nhs_aqua_blue = \"#00A9CE\"\n",
    "\n",
    "#Level 2 - Neutrals\n",
    "nhs_mid_grey = \"#768692\" #pale neutral, plentiful use\n",
    "nhs_pale_grey = \"#E8EDEE\" #pale neutral, plentiful use\n",
    "nhs_black = \"#231f20\" #moderate use\n",
    "nhs_dark_grey = \"#425563\" #moderate use\n",
    "nhs_white = \"#FFFFFF\" #moderate use\n",
    "\n",
    "#Level 3 - NHS Support Greens\n",
    "nhs_dark_green = \"#006747\"\n",
    "nhs_green = \"#009639\"\n",
    "nhs_light_green = \"#78BE20\"\n",
    "nhs_aqua_green = \"#00A499\"\n",
    "\n",
    "#Level 4 - NHS highlights (minimal use)\n",
    "nhs_purple = \"#330072\"\n",
    "nhs_dark_pink = \"#7C2855\"\n",
    "nhs_pink = \"#AE2573\"\n",
    "nhs_dark_red = \"#8A1538\"\n",
    "nhs_emergency_services_red = \"#DA291C\"\n",
    "nhs_orange = \"#ED8B00\"\n",
    "nhs_warm_yellow = \"#FFB81C\"\n",
    "nhs_yellow = \"#FAE100\""
   ]
  },
  {
   "cell_type": "markdown",
   "id": "233c9c8b",
   "metadata": {},
   "source": [
    "<h4>Ingest data and pre-process<h4>"
   ]
  },
  {
   "cell_type": "code",
   "execution_count": 3,
   "id": "cb59580f",
   "metadata": {},
   "outputs": [
    {
     "data": {
      "text/plain": [
       "'\\n#This cell isn\\'t running ?due to it being called from within Jupyter. \\n#Try starting cd to this file\\'s directory, \\n#then lanuch jupyter from there in terminal, see if it works.\\n#print the current working directory (which may differ to the file location)\\ncwd = os.getcwd()\\nprint(cwd)\\n\\n#Tell the program where it is itself located in the directory. \\n#Retrieve that file path\\nfileLocation = os.path.abspath(os.path.dirname(__file__))\\n\\n#Change the current working directory to the program\\'s own directory\\n#This means the program can locate files (csv / xlsx etc.) within that location\\n#Or subfolders within that directory\\nos.chdir(fileLocation)\\nprint(\"New working directory:\")\\ncwd = os.getcwd()\\nprint(cwd)\\n'"
      ]
     },
     "execution_count": 3,
     "metadata": {},
     "output_type": "execute_result"
    }
   ],
   "source": [
    "\"\"\"\n",
    "#This cell isn't running ?due to it being called from within Jupyter. \n",
    "#Try starting cd to this file's directory, \n",
    "#then lanuch jupyter from there in terminal, see if it works.\n",
    "#print the current working directory (which may differ to the file location)\n",
    "cwd = os.getcwd()\n",
    "print(cwd)\n",
    "\n",
    "#Tell the program where it is itself located in the directory. \n",
    "#Retrieve that file path\n",
    "fileLocation = os.path.abspath(os.path.dirname(__file__))\n",
    "\n",
    "#Change the current working directory to the program's own directory\n",
    "#This means the program can locate files (csv / xlsx etc.) within that location\n",
    "#Or subfolders within that directory\n",
    "os.chdir(fileLocation)\n",
    "print(\"New working directory:\")\n",
    "cwd = os.getcwd()\n",
    "print(cwd)\n",
    "\"\"\""
   ]
  },
  {
   "cell_type": "code",
   "execution_count": 3,
   "id": "7ee76646",
   "metadata": {},
   "outputs": [
    {
     "name": "stdout",
     "output_type": "stream",
     "text": [
      "   pt_id  appt_id   age       LSOA Ethnicity      Gender  Attendance_status\n",
      "0      1      1.0  18.0  E01019686     Black        Male  Patient cancelled\n",
      "1      2      NaN  60.0  E01013501     Black        Male                DNA\n",
      "2      2      3.0  60.0  E01013501     Black        Male                DNA\n",
      "3      3      4.0  31.0  E01019414     Asian  Non-binary  Service cancelled\n",
      "4      3      5.0  31.0  E01019414     Asian  Non-binary           Attended\n"
     ]
    }
   ],
   "source": [
    "#Read in the data set / create DataFrame\n",
    "df = pd.read_csv('dummy_data_set.csv')\n",
    "print(df.head())"
   ]
  },
  {
   "cell_type": "markdown",
   "id": "8f1da2df",
   "metadata": {},
   "source": [
    "<h4>PRE-PROCESSING STAGE<h4>"
   ]
  },
  {
   "cell_type": "code",
   "execution_count": 4,
   "id": "2acb12e5",
   "metadata": {},
   "outputs": [
    {
     "name": "stdout",
     "output_type": "stream",
     "text": [
      "Original number of rows: 3002\n",
      "Number of unique rows with dups removed: 3000\n",
      "Number of duplicates removed: 2\n",
      "      pt_id  appt_id   age       LSOA Ethnicity      Gender  Attendance_status\n",
      "3000   1000   3000.0  32.0  E01019652     Black  Non-binary  Service cancelled\n",
      "3001   1000   3000.0  32.0  E01019652     Black  Non-binary  Service cancelled\n"
     ]
    }
   ],
   "source": [
    "#Identify any duplicate rows\n",
    "original_df_count = df.count()\n",
    "original_df_num_rows = int(original_df_count[0])\n",
    "print(f'Original number of rows: {original_df_num_rows}')\n",
    "\n",
    "df_dedup = df.drop_duplicates()\n",
    "df_dedup_count = df_dedup.count()\n",
    "df_dedup_num_rows = int(df_dedup_count[0])\n",
    "print(f'Number of unique rows with dups removed: {df_dedup_num_rows}')\n",
    "\n",
    "num_duplicates = original_df_num_rows - df_dedup_num_rows\n",
    "print(f'Number of duplicates removed: {num_duplicates}')\n",
    "\n",
    "df_dup_rows = df.duplicated()\n",
    "print(df[df_dup_rows])\n",
    "\n",
    "df_to_use = pd.DataFrame()"
   ]
  },
  {
   "cell_type": "code",
   "execution_count": 5,
   "id": "eb6d04d9",
   "metadata": {},
   "outputs": [
    {
     "name": "stdout",
     "output_type": "stream",
     "text": [
      "WARNING: This data set has 2 duplicate rows.\n",
      "Would you like to remove these duplicate rows?\n",
      "Press 1 to remove or 2 to retain >>>> 1\n"
     ]
    }
   ],
   "source": [
    "#Could use stringtobool here - this recognises commonly used yes/no responses, converts to 1 or 0\n",
    "\"\"\"\n",
    ">> from distutils.util import strtobool\n",
    ">> strtobool('yes')\n",
    "\"\"\"\n",
    "\n",
    "#Remove Duplicates - User Decision if duplicates detected\n",
    "if num_duplicates != 0:\n",
    "    print(f'WARNING: This data set has {num_duplicates} duplicate rows.')\n",
    "    print('Would you like to remove these duplicate rows?')\n",
    "    while True:\n",
    "        try:\n",
    "            remove_dups = int((input('Press 1 to remove or 2 to retain >>>> ')))\n",
    "            if remove_dups == 1:\n",
    "                df_to_use = df_to_use.append(df_dedup)\n",
    "                break\n",
    "            elif remove_dups == 2:\n",
    "                df_to_use = df_to_use.append(df)\n",
    "                break\n",
    "            else:\n",
    "                print('That is not a valid selection.')\n",
    "        except:\n",
    "            print('That is not a valid selection.')\n",
    "else:\n",
    "    print('This data set has no duplicate rows.')"
   ]
  },
  {
   "cell_type": "markdown",
   "id": "36f31c68",
   "metadata": {},
   "source": [
    "<h2><span style = \"color:blue\">Do we need to remove dups again based on patient and / or appointment ID here?<h2>\n",
    "<p>We think objective 1 should be based on patient ID (dups removed), and objective 2 should be baed on appt ID (dup patients fine to inc in obj 2)<span><p>"
   ]
  },
  {
   "cell_type": "code",
   "execution_count": 6,
   "id": "133fc1b9",
   "metadata": {},
   "outputs": [],
   "source": [
    "#Library called requests (pip install needed) - commonly used for http request\n",
    "#requests.get(url) - this could get the data from a file on a given website, store this in dataframe (or save it)\n",
    "\n",
    "#Current non-API approach referencing downloaded full LSOA to IMD decile csv \n",
    "# from https://opendatacommunities.org/\n",
    "df_lsoa_imd_decile = pd.read_csv('imd2019lsoa_decile.csv')\n",
    "df_lsoa_imd_decile = df_lsoa_imd_decile[['FeatureCode', 'Value']]"
   ]
  },
  {
   "cell_type": "code",
   "execution_count": 8,
   "id": "89a1ec67",
   "metadata": {},
   "outputs": [
    {
     "name": "stdout",
     "output_type": "stream",
     "text": [
      "   pt_id  appt_id   age       lsoa ethnicity      gender         attendance  \\\n",
      "0      1      1.0  18.0  E01019686     Black        Male  Patient cancelled   \n",
      "1      2      NaN  60.0  E01013501     Black        Male                DNA   \n",
      "2      2      3.0  60.0  E01013501     Black        Male                DNA   \n",
      "3      3      4.0  31.0  E01019414     Asian  Non-binary  Service cancelled   \n",
      "4      3      5.0  31.0  E01019414     Asian  Non-binary           Attended   \n",
      "\n",
      "   IMD_decile  \n",
      "0          10  \n",
      "1           4  \n",
      "2           4  \n",
      "3           8  \n",
      "4           8  \n"
     ]
    }
   ],
   "source": [
    "#merge IMD decile value into service data - result is new dataframe\n",
    "df_with_imd = df_to_use.merge(df_lsoa_imd_decile, left_on='LSOA', right_on='FeatureCode', how='left').drop(columns='FeatureCode', axis=1)\n",
    "df_with_imd.columns = df_with_imd.columns.str.lower()\n",
    "df_with_imd = df_with_imd.rename(columns={\"value\": \"IMD_decile\", \"attendance_status\": \"attendance\"})\n",
    "\n",
    "#Identify the fields (columns) present in the data set\n",
    "data_fields = list(df_with_imd.columns)\n",
    "\n",
    "print(df_with_imd.head())"
   ]
  },
  {
   "cell_type": "code",
   "execution_count": 9,
   "id": "218ccfb8-9b50-4b73-8f6b-b5f2d2e6608a",
   "metadata": {},
   "outputs": [
    {
     "name": "stdout",
     "output_type": "stream",
     "text": [
      "The data fields present in the data set are listed below\n",
      "1 : pt_id\n",
      "2 : appt_id\n",
      "3 : age\n",
      "4 : lsoa\n",
      "5 : ethnicity\n",
      "6 : gender\n",
      "7 : attendance\n",
      "8 : IMD_decile\n",
      "Please enter the number that represents the unique patient ID field in the above list:\n",
      "\n",
      "Make a selection: 1\n",
      "\n",
      "Great. The entered number was: 1\n",
      "\n",
      "The unique patient ID field that the program will use is: pt_id\n"
     ]
    }
   ],
   "source": [
    "#Allow user to define what column heading / data field name is a unique identifier for patients\n",
    "#such as customer ID, patient ID etc. \n",
    "#Assign to variable name of \"patient_id\", which is then used throughout the rest of the program\n",
    "#Attempts to control for typos / name variations etc. in data sets for different use cases\n",
    "\n",
    "dict_of_fields = {}\n",
    "key_counter = 1\n",
    "for value in data_fields:\n",
    "    dict_of_fields[key_counter] = value\n",
    "    key_counter += 1\n",
    "    \n",
    "print(\"The data fields present in the data set are listed below\")\n",
    "for key_number in dict_of_fields:\n",
    "    print(str(key_number) + \" : \" + str(dict_of_fields[key_number]))\n",
    "\n",
    "print(\"Please enter the number that represents the unique patient ID field in the above list:\\n\")\n",
    "\n",
    "while True:\n",
    "    try:\n",
    "        patient_id_num = int(input('Make a selection: '))\n",
    "        break\n",
    "    \n",
    "    except ValueError:\n",
    "        print('Invalid Input. Please enter a number.')\n",
    "        \n",
    "print(f\"\\nGreat. The entered number was: {patient_id_num}\")\n",
    "print(f\"\\nThe unique patient ID field that the program will use is: {dict_of_fields[patient_id_num]}\")\n",
    "\n",
    "patient_id = dict_of_fields[patient_id_num]\n",
    "\n",
    "#print(patient_id) #test print statement, delete"
   ]
  },
  {
   "cell_type": "markdown",
   "id": "3d74913a-97fa-4449-9d25-317971647e30",
   "metadata": {},
   "source": [
    "<h4>removing duplicates based on user-instructed pt_id for objective 1<h4>"
   ]
  },
  {
   "cell_type": "code",
   "execution_count": 10,
   "id": "42c4724f-f768-491e-9f6e-76ec37f2c746",
   "metadata": {},
   "outputs": [],
   "source": [
    "#count_row_before = df_with_imd.shape[0]\n",
    "df_with_imd_unique_pts = df_with_imd.drop_duplicates(subset=patient_id)\n",
    "count_row_after = df_with_imd_unique_pts.shape[0]"
   ]
  },
  {
   "cell_type": "markdown",
   "id": "06fee0e1",
   "metadata": {},
   "source": [
    "<h2>Data Quality Description Section<h2>"
   ]
  },
  {
   "cell_type": "code",
   "execution_count": 11,
   "id": "1ac10ead",
   "metadata": {},
   "outputs": [
    {
     "name": "stdout",
     "output_type": "stream",
     "text": [
      "Count of Null values per column:\n",
      "pt_id         0\n",
      "appt_id       4\n",
      "age           4\n",
      "lsoa          0\n",
      "ethnicity     3\n",
      "gender        1\n",
      "attendance    5\n",
      "IMD_decile    0\n",
      "dtype: int64\n"
     ]
    }
   ],
   "source": [
    "#DELETE? SURPASSED BY SUBSEQUENT CELLS\n",
    "#for col in df_with_imd:\n",
    "#    print(df_with_imd[col].value_counts())\n",
    "\n",
    "#Data Quality summary - produce df summarising the number of NaN (null) values\n",
    "null_values = df_with_imd_unique_pts.isna().sum()\n",
    "print('Count of Null values per column:')\n",
    "print(null_values)"
   ]
  },
  {
   "cell_type": "markdown",
   "id": "155f8814",
   "metadata": {},
   "source": [
    "<h3><span style = \"color:blue\">REMEMBER:<h3>\n",
    "<p>consider how to check whether nulls are random or systematic to inform how to handle them<span><p>"
   ]
  },
  {
   "cell_type": "code",
   "execution_count": 12,
   "id": "2341be08",
   "metadata": {},
   "outputs": [
    {
     "data": {
      "text/html": [
       "<div>\n",
       "<style scoped>\n",
       "    .dataframe tbody tr th:only-of-type {\n",
       "        vertical-align: middle;\n",
       "    }\n",
       "\n",
       "    .dataframe tbody tr th {\n",
       "        vertical-align: top;\n",
       "    }\n",
       "\n",
       "    .dataframe thead th {\n",
       "        text-align: right;\n",
       "    }\n",
       "</style>\n",
       "<table border=\"1\" class=\"dataframe\">\n",
       "  <thead>\n",
       "    <tr style=\"text-align: right;\">\n",
       "      <th></th>\n",
       "      <th>pt_id</th>\n",
       "      <th>appt_id</th>\n",
       "      <th>age</th>\n",
       "      <th>lsoa</th>\n",
       "      <th>ethnicity</th>\n",
       "      <th>gender</th>\n",
       "      <th>attendance</th>\n",
       "      <th>IMD_decile</th>\n",
       "    </tr>\n",
       "  </thead>\n",
       "  <tbody>\n",
       "    <tr>\n",
       "      <th>Present</th>\n",
       "      <td>949.0</td>\n",
       "      <td>945.0</td>\n",
       "      <td>945.0</td>\n",
       "      <td>949.0</td>\n",
       "      <td>946.0</td>\n",
       "      <td>948.0</td>\n",
       "      <td>944.0</td>\n",
       "      <td>949.0</td>\n",
       "    </tr>\n",
       "    <tr>\n",
       "      <th>Missing</th>\n",
       "      <td>0.0</td>\n",
       "      <td>4.0</td>\n",
       "      <td>4.0</td>\n",
       "      <td>0.0</td>\n",
       "      <td>3.0</td>\n",
       "      <td>1.0</td>\n",
       "      <td>5.0</td>\n",
       "      <td>0.0</td>\n",
       "    </tr>\n",
       "    <tr>\n",
       "      <th>% Missing</th>\n",
       "      <td>0.0</td>\n",
       "      <td>0.4</td>\n",
       "      <td>0.4</td>\n",
       "      <td>0.0</td>\n",
       "      <td>0.3</td>\n",
       "      <td>0.1</td>\n",
       "      <td>0.5</td>\n",
       "      <td>0.0</td>\n",
       "    </tr>\n",
       "  </tbody>\n",
       "</table>\n",
       "</div>"
      ],
      "text/plain": [
       "           pt_id  appt_id    age   lsoa  ethnicity  gender  attendance  \\\n",
       "Present    949.0    945.0  945.0  949.0      946.0   948.0       944.0   \n",
       "Missing      0.0      4.0    4.0    0.0        3.0     1.0         5.0   \n",
       "% Missing    0.0      0.4    0.4    0.0        0.3     0.1         0.5   \n",
       "\n",
       "           IMD_decile  \n",
       "Present         949.0  \n",
       "Missing           0.0  \n",
       "% Missing         0.0  "
      ]
     },
     "execution_count": 12,
     "metadata": {},
     "output_type": "execute_result"
    }
   ],
   "source": [
    "present_values = []\n",
    "missing_values = []\n",
    "percent_missing = []\n",
    "\n",
    "list_of_lists = [present_values, missing_values, percent_missing]\n",
    "list_names = [\"Present\", \"Missing\", \"% Missing\"]\n",
    "\n",
    "for col_name in data_fields:\n",
    "    col_missing = df_with_imd_unique_pts[col_name].isna().sum()\n",
    "    missing_values.append(col_missing)\n",
    "    \n",
    "    col_present = df_with_imd_unique_pts[col_name].count()\n",
    "    present_values.append(col_present)\n",
    "    \n",
    "    try:\n",
    "        percent = (col_missing / (col_missing + col_present)) * 100\n",
    "        percent_missing.append(round(percent,1))\n",
    "    except:\n",
    "        percent_missing.append(round(0.0,1))\n",
    "        \n",
    "data_quality_summary_df = pd.DataFrame(list_of_lists, columns = data_fields, index = list_names)\n",
    "\n",
    "#create new lists, representing counts of present / missing data by variable, and percent missing\n",
    "#To enable summary table beneath chart (subsequent cell)\n",
    "\n",
    "present = data_quality_summary_df.loc[\"Present\"].values.tolist()\n",
    "missing = data_quality_summary_df.loc[\"Missing\"].values.tolist()\n",
    "missing_pct = data_quality_summary_df.loc[\"% Missing\"].values.tolist()\n",
    "\n",
    "data_quality_summary_df "
   ]
  },
  {
   "cell_type": "code",
   "execution_count": 12,
   "id": "cf4f72a4-6fc1-4045-9f2a-7c28c8ae1de0",
   "metadata": {},
   "outputs": [
    {
     "data": {
      "image/png": "[encoded data removed]",
      "text/plain": [
       "<Figure size 432x288 with 1 Axes>"
      ]
     },
     "metadata": {
      "needs_background": "light"
     },
     "output_type": "display_data"
    }
   ],
   "source": [
    "#consider adding second axis plot for % missing\n",
    "#This could improve interpretation (where missing count small, its invisible on the chart...)\n",
    "\n",
    "width = 0.35\n",
    "\n",
    "fig, ax = plt.subplots()\n",
    "\n",
    "ax.bar(data_fields, present_values, width, label=\"Present Values\", color=nhs_blue)\n",
    "ax.bar(data_fields, missing_values, width, bottom=present_values, label=\"Missing Values\", color=nhs_dark_red)\n",
    "\n",
    "ax.set_ylabel(\"Value count\")\n",
    "ax.set_title(\"Missing values summary\")\n",
    "ax.tick_params(axis='x', labelrotation = 90)\n",
    "ax.legend(loc=\"lower right\")\n",
    "\n",
    "plt.show()"
   ]
  },
  {
   "cell_type": "code",
   "execution_count": 13,
   "id": "2cc47338-d335-4215-b1ca-9694db3cd5c8",
   "metadata": {},
   "outputs": [
    {
     "data": {
      "image/png": "[encoded data removed]",
      "text/plain": [
       "<Figure size 720x360 with 1 Axes>"
      ]
     },
     "metadata": {
      "needs_background": "light"
     },
     "output_type": "display_data"
    }
   ],
   "source": [
    "#https://www.pythonpool.com/matplotlib-table/\n",
    "#data_quality_summary_df.loc[data_quality_summary_df['column_name'] == some_value]\n",
    "plt.rcParams['figure.figsize'] = [10, 5]\n",
    "data = [present, missing, missing_pct]\n",
    " \n",
    "columns = data_fields\n",
    "rows = list_names #present, missing, % missing \n",
    " \n",
    "colors = [nhs_blue, nhs_dark_red, nhs_pale_grey]\n",
    "\n",
    "n_rows = len(data) #3\n",
    "\n",
    "index = np.arange(len(columns)) + 0.3\n",
    "bar_width = 0.4\n",
    " \n",
    "# Initialize the vertical-offset for the stacked bar chart.\n",
    "y_offset = np.zeros(len(columns))\n",
    " \n",
    "# Plot bars and create text labels for the table\n",
    "cell_text = []\n",
    "\n",
    "for row in range(n_rows):\n",
    "    #y_offset_edit = y_offset + data[row]\n",
    "    cell_text.append([f'{x:.1f}' for x in data[row]])\n",
    "    if \"%\" in rows[row]:\n",
    "        continue\n",
    "    plt.bar(index, data[row], bar_width, bottom=y_offset, color=colors[row])\n",
    " \n",
    "# Add a table at the bottom of the axes\n",
    "the_table = plt.table(cellText=cell_text,\n",
    "                      rowLabels=rows,\n",
    "                      rowColours=colors,\n",
    "                      colLabels=columns,\n",
    "                      loc='bottom')\n",
    "\n",
    "the_table.auto_set_font_size(False)\n",
    "the_table.set_fontsize(10)\n",
    "\n",
    "# Adjust layout to make room for the table:\n",
    "plt.subplots_adjust(left=0.2, bottom=0.2)\n",
    " \n",
    "plt.ylabel(\"Count of rows in the data set used\")\n",
    "\n",
    "#plt.yticks(values * value_increment, ['%d' % val for val in values])\n",
    "plt.xticks([])\n",
    "plt.title('Missing data summary')\n",
    " \n",
    "plt.show()"
   ]
  },
  {
   "cell_type": "markdown",
   "id": "a359343f-6ac2-4861-ba13-ba3df69f22f5",
   "metadata": {},
   "source": [
    "<h4>Checking whether missing values are missing at random, or not<h4>"
   ]
  },
  {
   "cell_type": "code",
   "execution_count": 14,
   "id": "db7ba906-da39-4aeb-a8ad-153f634c0b3b",
   "metadata": {},
   "outputs": [
    {
     "data": {
      "text/plain": [
       "<AxesSubplot:>"
      ]
     },
     "execution_count": 14,
     "metadata": {},
     "output_type": "execute_result"
    },
    {
     "data": {
      "image/png": "[encoded data removed]",
      "text/plain": [
       "<Figure size 1800x720 with 2 Axes>"
      ]
     },
     "metadata": {
      "needs_background": "light"
     },
     "output_type": "display_data"
    }
   ],
   "source": [
    "#Produce visualisation of missing data.\n",
    "#Missing data appears as white space in the chart\n",
    "#Development idea: set fig size for the this (?and possibly, all) chart(s) to ensure consistency. Esp. if creating a report at the end?\n",
    "msno.matrix(df_with_imd_unique_pts)"
   ]
  },
  {
   "cell_type": "code",
   "execution_count": 15,
   "id": "6a0f19c7-bf83-4a81-9d86-c6fd1a19eaae",
   "metadata": {},
   "outputs": [
    {
     "name": "stdout",
     "output_type": "stream",
     "text": [
      "WARNING: Results in the below chart that show '<1' or '>-1' suggest the presence of a correlation that is close to being exactingly negative or positive (but is still not quite perfectly so) and cases requiring special attention.\n"
     ]
    },
    {
     "data": {
      "text/plain": [
       "<AxesSubplot:>"
      ]
     },
     "execution_count": 15,
     "metadata": {},
     "output_type": "execute_result"
    },
    {
     "data": {
      "image/png": "[encoded data removed]",
      "text/plain": [
       "<Figure size 1440x864 with 2 Axes>"
      ]
     },
     "metadata": {
      "needs_background": "light"
     },
     "output_type": "display_data"
    }
   ],
   "source": [
    "#The missingno correlation heatmap measures nullity correlation: \n",
    "#how strongly the presence or absence of one variable affects the presence of another: \n",
    "#(source: https://github.com/ResidentMario/missingno)\n",
    "\n",
    "print(\"WARNING: Results in the below chart that show '<1' or '>-1' suggest the presence of a correlation that is close to being exactingly negative or positive (but is still not quite perfectly so) and cases requiring special attention.\")\n",
    "\n",
    "msno.heatmap(df_with_imd_unique_pts)\n",
    "#df_with_imd_unique_pts.head()\n",
    "#collisions = pd.read_csv(\"https://raw.githubusercontent.com/ResidentMario/missingno-data/master/nyc_collision_factors.csv\")\n",
    "#msno.heatmap(collisions)"
   ]
  },
  {
   "cell_type": "markdown",
   "id": "815fa470-6388-4033-b4b4-184ef5ae545a",
   "metadata": {},
   "source": [
    "<h1>Objective 1 Begins...<h1>"
   ]
  },
  {
   "cell_type": "markdown",
   "id": "790cf44e-016f-48b6-b676-b7ef4f842728",
   "metadata": {},
   "source": [
    "Pseudo-code plan for pre-processing stage:\n",
    "1. Load modules (done)\n",
    "2. Load data (done)\n",
    "3. Summary of data (done)\n",
    "4. Encoding non-numerical fields (convert to 0s and 1s?) (lsoa, ethnicity, gender, attendance)\n",
    "\n",
    "Identify which fields are numeric\n",
    "use those fields within a linear regression test as follows:\n",
    "5a - identify rule of thumb for whether to worry / apply \"handling missing values\" code\n",
    "5b - if handling needed, then identify whether values are missing at random or not\n",
    "5c - if missing at random, impute using X process, if not impute using Y process\n",
    "\n",
    "Identify which fields are string fields\n",
    "convert those fields to int and change string values to incremental integers (1,2,3 etc.)\n",
    "use these converted int fields within a logistic regression test as follows:\n",
    "5d - identify rule of thumb for whether to worry / apply \"handling missing values\" code\n",
    "5e - if handling needed, then identify whether values are missing at random or not\n",
    "5f - if missing at random, impute using X process, if not impute using Y process\n",
    "\n",
    "6. Filling in (imputing) missing data using the approach required based on the output of the above conditional logic\n",
    "7. Drop columns\n",
    "8. save processed data"
   ]
  },
  {
   "cell_type": "code",
   "execution_count": 16,
   "id": "14575933-f087-4b4b-a556-754ed82808b4",
   "metadata": {},
   "outputs": [
    {
     "name": "stdout",
     "output_type": "stream",
     "text": [
      "['appt_id', 'age', 'ethnicity', 'gender', 'attendance']\n"
     ]
    }
   ],
   "source": [
    "\"\"\"\n",
    "dict datafields (keys) and missing series (values)\n",
    "iterate over values in datafields dict, check if >0\n",
    "if so, create new dict of the subset where there are missing values (misisng == >0)\n",
    "then, iterate over that, and use each key/value pair, plug into impute function\n",
    "\"\"\"\n",
    "\n",
    "keys = data_fields\n",
    "values = missing\n",
    "#dict_fieldname_missing_values = dict(zip(keys, values))\n",
    "#dict_fieldname_missing_values\n",
    "\n",
    "#Create dictionary of field names (keys) and county of missing values (values)\n",
    "iterator_fieldname_missing_values = zip(keys, values)\n",
    "dict_fieldname_missing_values = dict(iterator_fieldname_missing_values)\n",
    "\n",
    "#Use this dictionary to create a list, consisting of the subset of field names, where there are missing values\n",
    "#This will be used later in the program to identify which fields require missing values to be accounted for in some way\n",
    "missing_values_fields = []\n",
    "fields_none_missing = []\n",
    "\n",
    "for field in data_fields:\n",
    "    if dict_fieldname_missing_values[field] >0:\n",
    "        missing_values_fields.append(field)\n",
    "    else:\n",
    "        fields_none_missing.append(field)\n",
    "        \n",
    "print(missing_values_fields) #Test print statement - can be deleted once complete"
   ]
  },
  {
   "cell_type": "code",
   "execution_count": 18,
   "id": "06c54129-0177-4c04-b1b0-715df90d20d3",
   "metadata": {},
   "outputs": [],
   "source": [
    "#Function adjusted from the titanic example by Mike Allen\n",
    "def impute_missing_with_median(series):\n",
    "    \"\"\"\n",
    "    Replace missing values in a Pandas series with median,\n",
    "    Returns a comppleted series, and a series shwoing which values are imputed\n",
    "    \"\"\"\n",
    "    \n",
    "    median = series.median(skipna = True) #ignore missing values in calculation\n",
    "    missing = series.isna()\n",
    "    \n",
    "    # Copy the series to avoid change to the original series.\n",
    "    series_copy = series.copy()\n",
    "    series_copy[missing] = median\n",
    "    \n",
    "    return series_copy, missing"
   ]
  },
  {
   "cell_type": "markdown",
   "id": "fc9ec464-99a7-4e97-9973-52a82097539c",
   "metadata": {},
   "source": [
    "\n",
    "#Taken from titanic - 01. pre-processing example:\n",
    "def impute_missing_with_median_series(_series):\n",
    "    \"\"\"\n",
    "    Replace missing values in a Pandas series with median,\n",
    "    Returns a completed series, and a series showing which values are imputed\n",
    "    \"\"\"\n",
    "    # Copy the series to avoid change to the original series.\n",
    "    series = _series.copy()\n",
    "    median = series.median()\n",
    "    missing = series.isna()\n",
    "    series[missing] = median\n",
    "    \n",
    "    return series\n",
    "\n",
    "#Taken from titanic - 01. pre-processing example:\n",
    "def impute_missing_with_median_missing(_series):\n",
    "    \"\"\"\n",
    "    Replace missing values in a Pandas series with median,\n",
    "    Returns a completed series, and a series showing which values are imputed\n",
    "    \"\"\"\n",
    "    # Copy the series to avoid change to the original series.\n",
    "    series = _series.copy()\n",
    "    median = series.median()\n",
    "    missing = series.isna()\n",
    "    series[missing] = median\n",
    "    \n",
    "    return missing\n"
   ]
  },
  {
   "cell_type": "code",
   "execution_count": 22,
   "id": "314f4049-73dd-414b-82cc-32ee9756bdb9",
   "metadata": {},
   "outputs": [
    {
     "name": "stdout",
     "output_type": "stream",
     "text": [
      "['appt_id', 'age']\n",
      "['ethnicity', 'gender', 'attendance']\n",
      "float64\n"
     ]
    }
   ],
   "source": [
    "\"\"\"\n",
    "Identify which fields both have missing values and are an appropriate data type to have their median calculated.\n",
    "This doesn't consider whether an int/float field is contextually appropriate to have a median calculated.\n",
    "E.g. if appt_id is an incremental numeric field, it will be logically identified and assigned to int_float_fields\n",
    "but, it is contextually meaningless to give a median appt_id. \n",
    "Therefore, the output of this step needs some form of user validation / approval to proceed.\n",
    "This is to be handled in the next cell.\n",
    "\"\"\"\n",
    "#df_with_imd_unique_pts.dtypes\n",
    "data_type_dict = dict(df_with_imd_unique_pts.dtypes)\n",
    "\n",
    "int_float_fields = []\n",
    "str_fields = []\n",
    "\n",
    "#identify which fields both have missing values and are int or float type. Append to list.\n",
    "for field in data_fields:\n",
    "    try:\n",
    "        if dict_fieldname_missing_values[field] > 0:\n",
    "            median_value = df_with_imd_unique_pts[field].median() #force the except for inelligible data types / only allow floats/ints to pass to next line\n",
    "            int_float_fields.append(field)\n",
    "            \n",
    "    except: #Add in specific error that would be expected if median cannot be calculated (not generic \"all errors\")\n",
    "        str_fields.append(field)\n",
    "        continue\n",
    "\n",
    "print(int_float_fields) #Test print statement - can be deleted once complete. \n",
    "print(str_fields) #Test print statement - can be deleted once complete.\n",
    "\n",
    "#print(df_with_imd_unique_pts['age'].dtype) #USE THIS TO MORE EXPLICITLY CREATE inf_float_fields and str_fields USING LIST COMPREHENSION"
   ]
  },
  {
   "cell_type": "code",
   "execution_count": 23,
   "id": "7d449dba-2f9e-4c65-ada4-83b21230bef1",
   "metadata": {},
   "outputs": [],
   "source": [
    "\"\"\"\n",
    "User confirmation these are all logically / contextually relevant \n",
    "(e.g. numeric patient ID could have median calculated but this doesnt make sense and\n",
    "should be removed before the process to control for missing values takes place)\n",
    "\n",
    "This function requires two input parameters: \n",
    "1. a field_list, and \n",
    "2. a data type as a string (\"int\" or \"string\")\n",
    "\"\"\"\n",
    "\n",
    "#List to populate with the fields the user decides to remove from / exclude from median (or other) missing values imputing\n",
    "int_float_fields_keep = [] #fields to impute missing values for\n",
    "int_float_fields_drop = [] #fields to exclude from imputing process - so either drop rows with any Nulls in these fields or exclude in ML algorithm\n",
    "str_fields_keep = [] #fields to impute missing values for\n",
    "str_fields_drop = [] #fields to exclude from imputing process - so either drop rows with any Nulls in these fields or exclude in ML algorithm\n",
    "    \n",
    "def identify_fields_to_impute(fields_list, data_type):\n",
    "    #tell python which variables from the global scope to update\n",
    "    global int_float_fields_keep\n",
    "    global int_float_fields_drop\n",
    "    global str_fields_keep\n",
    "    global str_fields_drop\n",
    "    \n",
    "    #Create a dictionary of incremental numbers starting from 1 (keys) and \n",
    "    #field names identified in the last step as being int/float data type and having missing values (values)   \n",
    "    dict_of_missing_fields = {}\n",
    "    key_counter = 1\n",
    "    for value in fields_list:\n",
    "        dict_of_missing_fields[key_counter] = value\n",
    "        key_counter += 1\n",
    "\n",
    "    #Print to screen a numbered 'list' to the user, listing the fields that have been identified as int/float and missing values\n",
    "    if data_type == \"int\":\n",
    "        data_type_descriptor = \"numeric (integer/decimal)\"\n",
    "    else:\n",
    "        data_type_descriptor = \"string (text)\"\n",
    "        \n",
    "    print(f\"The data fields with missing data that look to be {data_type_descriptor} are listed below\")\n",
    "    for key_number in dict_of_missing_fields:\n",
    "        print(str(key_number) + \" : \" + str(dict_of_missing_fields[key_number]))\n",
    "\n",
    "    #Get user confirmation that it is contextually appropriate to proceed with these fields for missing value control\n",
    "    print(\"\\nDo you want to impute missing data for all of these fields?\")\n",
    "    print(\"Please enter 'y' to continue with all fields in scope, or 'n' to choose which fields to drop\")\n",
    "\n",
    "    while True:\n",
    "        try:\n",
    "            selection = input(\"Please make a selection (y or n): \").lower()\n",
    "            if selection == \"y\" or selection == \"n\":\n",
    "                break\n",
    "            print(\"Invalid selection\")\n",
    "        except ValueError:\n",
    "            print(\"\\nThat is not a valid selection. Please try again (y or n).\")   \n",
    "\n",
    "    #loop to choose which fields to drop from the missing value process\n",
    "    if selection == \"n\":\n",
    "        while True:\n",
    "            print(\"\\nThe data fields currently in scope are listed below:\")\n",
    "            for key_number in dict_of_missing_fields:\n",
    "                print(f\"{key_number} : {dict_of_missing_fields[key_number]}\")\n",
    "            print(f\"0 : To continue with the current selection\")\n",
    "        \n",
    "            while True:\n",
    "                try:\n",
    "                    drop_selection = int(input(\"\\nPlease enter the number of the field to remove, or 0 to continue with the current selection:\"))\n",
    "                    if drop_selection in range(key_counter):\n",
    "                        break\n",
    "                    else:\n",
    "                        print(\"\\nThat is not a correct selection.\")\n",
    "                except ValueError:\n",
    "                    print(\"Value Error - try again.\")\n",
    "\n",
    "            if drop_selection == 0:\n",
    "                break\n",
    "            else:\n",
    "                if data_type == \"int\":\n",
    "                    int_float_fields_drop.append(dict_of_missing_fields[drop_selection]) #create new list of fields user wants to control for missing values\n",
    "                    del dict_of_missing_fields[drop_selection]\n",
    "                else:\n",
    "                    str_fields_drop.append(dict_of_missing_fields[drop_selection]) #create new list of fields user wants to control for missing values\n",
    "                    del dict_of_missing_fields[drop_selection]\n",
    "\n",
    "        else:\n",
    "            print(\"Please enter a valid selection.\")\n",
    "    \n",
    "    if data_type == \"int\":\n",
    "        int_float_fields_keep = fields_list\n",
    "        for item in int_float_fields_drop:\n",
    "            int_float_fields_keep.remove(item)\n",
    "    else:\n",
    "        str_fields_keep = fields_list\n",
    "        for item in str_fields_drop:\n",
    "            str_fields_keep.remove(item)\n",
    "\n",
    "    print()\n",
    "    print(f\"Great. The following {data_type_descriptor} fields will be used when controlling for missing data:\")\n",
    "    \n",
    "    if data_type == \"int\": \n",
    "        for item in int_float_fields_keep:\n",
    "            print(item)\n",
    "    else:\n",
    "        for item in str_fields_keep:\n",
    "            print(item)        \n",
    "\n",
    "            \n",
    "#Dev note:\n",
    "#Need to decide whether to remove df rows based on missing values in int_float_fields_drop and str_fields_drop lists or\n",
    "#exclude the df columns these fields relate to entirely, \n",
    "#as ML can't handle Nulls - DECISION NEEDED -> ME/SW think remove column :)"
   ]
  },
  {
   "cell_type": "markdown",
   "id": "f0705ea2-9ad4-4111-88f4-928b2f07dc69",
   "metadata": {},
   "source": [
    "<h4>Call function for user to confirm integer fields to retain - where there are integer fields with missing values only<h4>"
   ]
  },
  {
   "cell_type": "code",
   "execution_count": 24,
   "id": "22fb8e0c-72cc-4bd9-a1a4-4b2266bddf03",
   "metadata": {},
   "outputs": [
    {
     "name": "stdout",
     "output_type": "stream",
     "text": [
      "The data fields with missing data that look to be numeric (integer/decimal) are listed below\n",
      "1 : appt_id\n",
      "2 : age\n",
      "\n",
      "Do you want to impute missing data for all of these fields?\n",
      "Please enter 'y' to continue with all fields in scope, or 'n' to choose which fields to drop\n",
      "Please make a selection (y or n): n\n",
      "\n",
      "The data fields currently in scope are listed below:\n",
      "1 : appt_id\n",
      "2 : age\n",
      "0 : To continue with the current selection\n",
      "\n",
      "Please enter the number of the field to remove, or 0 to continue with the current selection:1\n",
      "\n",
      "The data fields currently in scope are listed below:\n",
      "2 : age\n",
      "0 : To continue with the current selection\n",
      "\n",
      "Please enter the number of the field to remove, or 0 to continue with the current selection:0\n",
      "\n",
      "Great. The following numeric (integer/decimal) fields will be used when controlling for missing data:\n",
      "age\n"
     ]
    }
   ],
   "source": [
    "if len(int_float_fields) > 0:\n",
    "    identify_fields_to_impute(int_float_fields, \"int\")"
   ]
  },
  {
   "cell_type": "markdown",
   "id": "3fbbf4a1-d94f-4e05-bb8c-9f6272aaae0d",
   "metadata": {},
   "source": [
    "<h4>Call function for user to confirm string fields to retain - where there are string fields with missing values only<h4>"
   ]
  },
  {
   "cell_type": "code",
   "execution_count": 25,
   "id": "2d9b42a0-b893-4876-9146-125ea067f77b",
   "metadata": {},
   "outputs": [
    {
     "name": "stdout",
     "output_type": "stream",
     "text": [
      "The data fields with missing data that look to be string (text) are listed below\n",
      "1 : ethnicity\n",
      "2 : gender\n",
      "3 : attendance\n",
      "\n",
      "Do you want to impute missing data for all of these fields?\n",
      "Please enter 'y' to continue with all fields in scope, or 'n' to choose which fields to drop\n",
      "Please make a selection (y or n): y\n",
      "\n",
      "Great. The following string (text) fields will be used when controlling for missing data:\n",
      "ethnicity\n",
      "gender\n",
      "attendance\n"
     ]
    }
   ],
   "source": [
    "if len(str_fields) > 0:\n",
    "    identify_fields_to_impute(str_fields, \"string\")"
   ]
  },
  {
   "cell_type": "code",
   "execution_count": 23,
   "id": "400982de-e03f-496c-90dc-f54465e87db9",
   "metadata": {},
   "outputs": [
    {
     "name": "stdout",
     "output_type": "stream",
     "text": [
      "dict_keys(['pt_id', 'appt_id', 'age', 'lsoa', 'ethnicity', 'gender', 'attendance', 'IMD_decile'])\n",
      "dict_values([dtype('int64'), dtype('float64'), dtype('float64'), dtype('O'), dtype('O'), dtype('O'), dtype('O'), dtype('int64')])\n",
      "dict_values([0.0, 4.0, 4.0, 0.0, 3.0, 1.0, 5.0, 0.0])\n",
      "['pt_id', 'appt_id', 'age', 'lsoa', 'ethnicity', 'gender', 'attendance', 'IMD_decile']\n"
     ]
    }
   ],
   "source": [
    "#print statements to inform logic - delete once working\n",
    "print(data_type_dict.keys())\n",
    "print(data_type_dict.values())\n",
    "print(dict_fieldname_missing_values.values())\n",
    "print(data_fields)"
   ]
  },
  {
   "cell_type": "markdown",
   "id": "0f495515-2f4f-4aa8-b3d5-754cc4b0258c",
   "metadata": {},
   "source": [
    "<h4>Create function to impute label fields<h4> "
   ]
  },
  {
   "cell_type": "code",
   "execution_count": 31,
   "id": "042544a8-39cc-4b34-9bc0-ac3367e0887c",
   "metadata": {},
   "outputs": [],
   "source": [
    "#Consider how to change the terminology used here, in case the term \"missing\" is used in the actual data set passed\n",
    "#Taken from titanic - 01. pre-processing example:\n",
    "def impute_missing_with_missing_label(series):\n",
    "    \"\"\"Replace missing values in a Pandas series with the text 'missing'\"\"\"\n",
    "\n",
    "    missing = series.isna()    \n",
    "    \n",
    "    # Copy the series to avoid change to the original series.\n",
    "    series_copy = series.copy()\n",
    "    series_copy[missing] = 'missing'\n",
    "    \n",
    "    return series_copy, missing"
   ]
  },
  {
   "cell_type": "code",
   "execution_count": 32,
   "id": "9fe102e3-2994-41e3-956a-c270e237d20b",
   "metadata": {},
   "outputs": [],
   "source": [
    "dict_ints_imputed = {}\n",
    "dict_ints_imputed_missing = {}\n",
    "dict_str_imputed = {}\n",
    "dict_str_imputed_missing = {}"
   ]
  },
  {
   "cell_type": "code",
   "execution_count": 33,
   "id": "da647237-ea0a-49f5-bf47-35b9e50bfb75",
   "metadata": {},
   "outputs": [],
   "source": [
    "def impute_missing(field_list, data_type):\n",
    "    \n",
    "    #Tell the function to update variables that exist in the global space, and not locally within the function\n",
    "    global dict_ints_imputed\n",
    "    global dict_ints_imputed_missing\n",
    "    global dict_str_imputed\n",
    "    global dict_str_imputed_missing\n",
    "    \n",
    "    if data_type == \"int\":\n",
    "        for field in field_list:\n",
    "            series, missing = impute_missing_with_median(df_with_imd_unique_pts[field])\n",
    "            dict_ints_imputed[field] = series\n",
    "            dict_ints_imputed_missing[field] = missing\n",
    "\n",
    "    else:\n",
    "        for field in field_list:\n",
    "            series, missing = impute_missing_with_missing_label(df_with_imd_unique_pts[field])\n",
    "            dict_str_imputed[field] = series\n",
    "            dict_str_imputed_missing[field] = missing"
   ]
  },
  {
   "cell_type": "markdown",
   "id": "a74301ff-29ba-43b3-86b1-afa4c4230c61",
   "metadata": {},
   "source": [
    "<h4>Call the function to impute missing int/float fields using the median<h4>"
   ]
  },
  {
   "cell_type": "code",
   "execution_count": 34,
   "id": "85ac09af-5232-4e6c-ae37-73d7d6926966",
   "metadata": {},
   "outputs": [],
   "source": [
    "impute_missing(int_float_fields_keep, \"int\")"
   ]
  },
  {
   "cell_type": "markdown",
   "id": "1bf02424-7405-4f12-ae5d-b51e09c18660",
   "metadata": {},
   "source": [
    "<h4>Call the function to impute missing string fields with the word \"missing\"<h4>"
   ]
  },
  {
   "cell_type": "code",
   "execution_count": 35,
   "id": "73177546-986b-4a25-afbd-54faa604288a",
   "metadata": {},
   "outputs": [],
   "source": [
    "impute_missing(str_fields_keep, \"string\")"
   ]
  },
  {
   "cell_type": "code",
   "execution_count": 36,
   "id": "935f7b08-7869-4c2a-becc-f354c2a82d49",
   "metadata": {},
   "outputs": [],
   "source": [
    "final_processed_df = pd.DataFrame()\n",
    "\n",
    "data_fields_copy = data_fields.copy()\n",
    "\n",
    "for field in data_fields:\n",
    "    if field in int_float_fields_drop:\n",
    "        data_fields_copy.remove(field)\n",
    "    elif field in int_float_fields_keep:\n",
    "        data_fields_copy.remove(field)\n",
    "    elif field in str_fields_drop:\n",
    "        data_fields_copy.remove(field)\n",
    "    elif field in str_fields_keep:\n",
    "        data_fields_copy.remove(field)\n",
    "\n",
    "for field in data_fields_copy:\n",
    "    final_processed_df[field] = df_with_imd_unique_pts[field]"
   ]
  },
  {
   "cell_type": "code",
   "execution_count": 37,
   "id": "d6912a8b-16e3-43ee-aff0-24ef21262633",
   "metadata": {},
   "outputs": [],
   "source": [
    "if len(int_float_fields_keep) > 0:\n",
    "    for field in int_float_fields_keep:\n",
    "        #final_processed_df[field] = (df_with_imd_unique_pts[field]) #Exclue original field with nulls\n",
    "        final_processed_df[field+'_with_median'] = dict_ints_imputed[field]\n",
    "        final_processed_df[field+'_Null_replaced'] = dict_ints_imputed_missing[field]\n",
    "\n",
    "if len(str_fields_keep) > 0:\n",
    "    for field in str_fields_keep:\n",
    "        #final_processed_df[field] = (df_with_imd_unique_pts[field]) #Exclue original field with nulls\n",
    "        final_processed_df[field+'_with_missing'] = dict_str_imputed[field]\n",
    "        final_processed_df[field+'_Null_replaced'] = dict_str_imputed_missing[field]"
   ]
  },
  {
   "cell_type": "code",
   "execution_count": 33,
   "id": "457bb1c3-525c-4877-8dc6-3df28ae63844",
   "metadata": {},
   "outputs": [
    {
     "data": {
      "text/plain": [
       "pt_id                       0\n",
       "lsoa                        0\n",
       "IMD_decile                  0\n",
       "age_with_median             0\n",
       "age_Null_replaced           0\n",
       "ethnicity_with_missing      0\n",
       "ethnicity_Null_replaced     0\n",
       "gender_with_missing         0\n",
       "gender_Null_replaced        0\n",
       "attendance_with_missing     0\n",
       "attendance_Null_replaced    0\n",
       "dtype: int64"
      ]
     },
     "execution_count": 33,
     "metadata": {},
     "output_type": "execute_result"
    }
   ],
   "source": [
    "#The final processed df:\n",
    "#1. includes fields that originally had no missing data\n",
    "#2. excludes fields that had missing data, but the user decided to drop / not impute\n",
    "#3. includes fields that originally had missing data, and the user imputed data for missing values\n",
    "\n",
    "#final_processed_df.info()\n"
   ]
  },
  {
   "cell_type": "markdown",
   "id": "0a39cffb-7f39-4f8c-addf-1b1a20a757db",
   "metadata": {},
   "source": [
    "<h1>Dev Note: Check if median is appropriate for all numeric fields or how to decide which approach to use, if we dont always use the median<h1>"
   ]
  },
  {
   "cell_type": "code",
   "execution_count": 30,
   "id": "f2390747-62d2-48e9-aa93-50759a1cd9e4",
   "metadata": {},
   "outputs": [],
   "source": [
    "#Titanic section for cabin data has been removed (handling one passenger with many rooms)"
   ]
  },
  {
   "cell_type": "code",
   "execution_count": 38,
   "id": "1d8de076-4bd2-4f70-8a3f-50f6a65def34",
   "metadata": {},
   "outputs": [
    {
     "data": {
      "text/html": [
       "<div>\n",
       "<style scoped>\n",
       "    .dataframe tbody tr th:only-of-type {\n",
       "        vertical-align: middle;\n",
       "    }\n",
       "\n",
       "    .dataframe tbody tr th {\n",
       "        vertical-align: top;\n",
       "    }\n",
       "\n",
       "    .dataframe thead th {\n",
       "        text-align: right;\n",
       "    }\n",
       "</style>\n",
       "<table border=\"1\" class=\"dataframe\">\n",
       "  <thead>\n",
       "    <tr style=\"text-align: right;\">\n",
       "      <th></th>\n",
       "      <th>pt_id</th>\n",
       "      <th>lsoa</th>\n",
       "      <th>IMD_decile</th>\n",
       "      <th>age_with_median</th>\n",
       "      <th>age_Null_replaced</th>\n",
       "      <th>ethnicity_with_missing</th>\n",
       "      <th>ethnicity_Null_replaced</th>\n",
       "      <th>gender_with_missing</th>\n",
       "      <th>gender_Null_replaced</th>\n",
       "      <th>attendance_with_missing</th>\n",
       "      <th>attendance_Null_replaced</th>\n",
       "    </tr>\n",
       "  </thead>\n",
       "  <tbody>\n",
       "    <tr>\n",
       "      <th>0</th>\n",
       "      <td>1</td>\n",
       "      <td>E01019686</td>\n",
       "      <td>10</td>\n",
       "      <td>18.0</td>\n",
       "      <td>False</td>\n",
       "      <td>Black</td>\n",
       "      <td>False</td>\n",
       "      <td>Male</td>\n",
       "      <td>False</td>\n",
       "      <td>Patient cancelled</td>\n",
       "      <td>False</td>\n",
       "    </tr>\n",
       "    <tr>\n",
       "      <th>1</th>\n",
       "      <td>2</td>\n",
       "      <td>E01013501</td>\n",
       "      <td>4</td>\n",
       "      <td>60.0</td>\n",
       "      <td>False</td>\n",
       "      <td>Black</td>\n",
       "      <td>False</td>\n",
       "      <td>Male</td>\n",
       "      <td>False</td>\n",
       "      <td>DNA</td>\n",
       "      <td>False</td>\n",
       "    </tr>\n",
       "    <tr>\n",
       "      <th>3</th>\n",
       "      <td>3</td>\n",
       "      <td>E01019414</td>\n",
       "      <td>8</td>\n",
       "      <td>31.0</td>\n",
       "      <td>False</td>\n",
       "      <td>Asian</td>\n",
       "      <td>False</td>\n",
       "      <td>Non-binary</td>\n",
       "      <td>False</td>\n",
       "      <td>Service cancelled</td>\n",
       "      <td>False</td>\n",
       "    </tr>\n",
       "    <tr>\n",
       "      <th>8</th>\n",
       "      <td>4</td>\n",
       "      <td>E01019596</td>\n",
       "      <td>8</td>\n",
       "      <td>39.0</td>\n",
       "      <td>False</td>\n",
       "      <td>Mixed</td>\n",
       "      <td>False</td>\n",
       "      <td>Other</td>\n",
       "      <td>False</td>\n",
       "      <td>DNA</td>\n",
       "      <td>False</td>\n",
       "    </tr>\n",
       "    <tr>\n",
       "      <th>12</th>\n",
       "      <td>5</td>\n",
       "      <td>E01019412</td>\n",
       "      <td>10</td>\n",
       "      <td>23.0</td>\n",
       "      <td>False</td>\n",
       "      <td>Other</td>\n",
       "      <td>False</td>\n",
       "      <td>Transgender</td>\n",
       "      <td>False</td>\n",
       "      <td>DNA</td>\n",
       "      <td>False</td>\n",
       "    </tr>\n",
       "  </tbody>\n",
       "</table>\n",
       "</div>"
      ],
      "text/plain": [
       "    pt_id       lsoa  IMD_decile  age_with_median  age_Null_replaced  \\\n",
       "0       1  E01019686          10             18.0              False   \n",
       "1       2  E01013501           4             60.0              False   \n",
       "3       3  E01019414           8             31.0              False   \n",
       "8       4  E01019596           8             39.0              False   \n",
       "12      5  E01019412          10             23.0              False   \n",
       "\n",
       "   ethnicity_with_missing  ethnicity_Null_replaced gender_with_missing  \\\n",
       "0                   Black                    False                Male   \n",
       "1                   Black                    False                Male   \n",
       "3                   Asian                    False          Non-binary   \n",
       "8                   Mixed                    False               Other   \n",
       "12                  Other                    False         Transgender   \n",
       "\n",
       "    gender_Null_replaced attendance_with_missing  attendance_Null_replaced  \n",
       "0                  False       Patient cancelled                     False  \n",
       "1                  False                     DNA                     False  \n",
       "3                  False       Service cancelled                     False  \n",
       "8                  False                     DNA                     False  \n",
       "12                 False                     DNA                     False  "
      ]
     },
     "execution_count": 38,
     "metadata": {},
     "output_type": "execute_result"
    }
   ],
   "source": [
    "final_processed_df.head()"
   ]
  },
  {
   "cell_type": "code",
   "execution_count": 41,
   "id": "0d46e35c-cfc6-4eae-b6d4-b49a7901ab65",
   "metadata": {},
   "outputs": [
    {
     "name": "stdout",
     "output_type": "stream",
     "text": [
      "    encoded__E01013453  encoded__E01013454  encoded__E01013455  \\\n",
      "0                    0                   0                   0   \n",
      "1                    0                   0                   0   \n",
      "3                    0                   0                   0   \n",
      "8                    0                   0                   0   \n",
      "12                   0                   0                   0   \n",
      "\n",
      "    encoded__E01013456  encoded__E01013457  encoded__E01013458  \\\n",
      "0                    0                   0                   0   \n",
      "1                    0                   0                   0   \n",
      "3                    0                   0                   0   \n",
      "8                    0                   0                   0   \n",
      "12                   0                   0                   0   \n",
      "\n",
      "    encoded__E01013459  encoded__E01013460  encoded__E01013461  \\\n",
      "0                    0                   0                   0   \n",
      "1                    0                   0                   0   \n",
      "3                    0                   0                   0   \n",
      "8                    0                   0                   0   \n",
      "12                   0                   0                   0   \n",
      "\n",
      "    encoded__E01013464  ...  encoded__Male  encoded__Non-binary  \\\n",
      "0                    0  ...              1                    0   \n",
      "1                    0  ...              1                    0   \n",
      "3                    0  ...              0                    1   \n",
      "8                    0  ...              0                    0   \n",
      "12                   0  ...              0                    0   \n",
      "\n",
      "    encoded__Other  encoded__Transgender  encoded__missing  encoded__Attended  \\\n",
      "0                0                     0                 0                  0   \n",
      "1                0                     0                 0                  0   \n",
      "3                0                     0                 0                  0   \n",
      "8                1                     0                 0                  0   \n",
      "12               0                     1                 0                  0   \n",
      "\n",
      "    encoded__DNA  encoded__Patient cancelled  encoded__Service cancelled  \\\n",
      "0              0                           1                           0   \n",
      "1              1                           0                           0   \n",
      "3              0                           0                           1   \n",
      "8              1                           0                           0   \n",
      "12             1                           0                           0   \n",
      "\n",
      "    encoded__missing  \n",
      "0                  0  \n",
      "1                  0  \n",
      "3                  0  \n",
      "8                  0  \n",
      "12                 0  \n",
      "\n",
      "[5 rows x 509 columns]\n"
     ]
    }
   ],
   "source": [
    "#identify the fields that are labels and not numbers (as the encoding will be done on label data only)\n",
    "final_processed_data_fields = list(final_processed_df.columns)\n",
    "fields_to_drop = []\n",
    "fields_to_encode = []\n",
    "\n",
    "for field in final_processed_data_fields:\n",
    "    if field != patient_id:\n",
    "        try:\n",
    "            median_value = int(final_processed_df[field].median()) #force the except for inelligible data types / only allow string to pass to next line\n",
    "            fields_to_drop.append(field)\n",
    "        except:\n",
    "            fields_to_encode.append(field)\n",
    "            continue\n",
    "\n",
    "#create function to encode all relevant fields for a given data frame and list of fields to encode, passed into the function as parameters\n",
    "def encoding_dataframe(dataframe, field_list):\n",
    "    \n",
    "    #Create blank dataframe that will be populated with encoded series\n",
    "    encoded_dataframe = pd.DataFrame()\n",
    "    \n",
    "    #iterate through all fields in the dataframe passed to the function\n",
    "    for field in field_list:       \n",
    "        \n",
    "        #encode the current field in the loop and create a dataframe for the current fields encoding \n",
    "        field_encoded = pd.get_dummies(dataframe[field], prefix=\"encoded_\")\n",
    "        \n",
    "        #concatenate the current fields encoding with the newly create dataframe above\n",
    "        encoded_dataframe = pd.concat([encoded_dataframe, field_encoded], axis=1)\n",
    "        \n",
    "    return encoded_dataframe\n",
    "\n",
    "#call the function\n",
    "encoded_dataframe = encoding_dataframe(final_processed_df, fields_to_encode)\n",
    "\n",
    "print(encoded_dataframe.head())"
   ]
  },
  {
   "cell_type": "markdown",
   "id": "5c0dcc35-fc23-4912-9917-e7d7f22c3004",
   "metadata": {},
   "source": [
    "<h1>All done! Save pre-processed data<h1> "
   ]
  },
  {
   "cell_type": "code",
   "execution_count": 80,
   "id": "c27bbec1-2bfb-4aa1-bcc7-0845e0ffa66f",
   "metadata": {},
   "outputs": [],
   "source": [
    "os.makedirs('processed_data', exist_ok=True)  \n",
    "encoded_dataframe.to_csv('processed_data/processed_data.csv')  \n",
    "\n",
    "#encoded_dataframe.to_csv('./data/processed_data.csv', index=False)"
   ]
  }
 ],
 "metadata": {
  "kernelspec": {
   "display_name": "Python 3 (ipykernel)",
   "language": "python",
   "name": "python3"
  },
  "language_info": {
   "codemirror_mode": {
    "name": "ipython",
    "version": 3
   },
   "file_extension": ".py",
   "mimetype": "text/x-python",
   "name": "python",
   "nbconvert_exporter": "python",
   "pygments_lexer": "ipython3",
   "version": "3.8.8"
  }
 },
 "nbformat": 4,
 "nbformat_minor": 5
}
